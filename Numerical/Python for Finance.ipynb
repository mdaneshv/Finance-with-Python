{
 "cells": [
  {
   "cell_type": "code",
   "execution_count": 13,
   "metadata": {},
   "outputs": [
    {
     "name": "stdout",
     "output_type": "stream",
     "text": [
      "beta = 0.5077431878770808 , alpha = -0.008481900352462384\n",
      "expected stock return: 0.09315817096955187\n"
     ]
    }
   ],
   "source": [
    "from scipy import stats\n",
    "\n",
    "# Stock return and market index return \n",
    "stock_returns = [0.065, 0.0265, -0.0593, -0.001, 0.0346]\n",
    "mkt_returns = [0.055, -0.09, -0.041, 0.045, 0.022]\n",
    "\n",
    "# capm\n",
    "[beta, alpha, r_value, p_value, std_err] = stats.linregress(stock_returns, mkt_returns)\n",
    "print('beta =',beta,', alpha =',alpha)\n",
    "\n",
    "# Calculating the sml\n",
    "rf = 0.05\n",
    "mrisk_prem = 0.085\n",
    "\n",
    "risk_prem = mrisk_prem*beta\n",
    "expected_stock_return = rf + risk_prem\n",
    "print('expected stock return:', expected_stock_return)"
   ]
  },
  {
   "cell_type": "code",
   "execution_count": 15,
   "metadata": {},
   "outputs": [
    {
     "name": "stdout",
     "output_type": "stream",
     "text": [
      "                            OLS Regression Results                            \n",
      "==============================================================================\n",
      "Dep. Variable:                      y   R-squared:                       0.039\n",
      "Model:                            OLS   Adj. R-squared:                 -0.479\n",
      "Method:                 Least Squares   F-statistic:                   0.07481\n",
      "Date:                Thu, 12 Nov 2020   Prob (F-statistic):              0.999\n",
      "Time:                        22:09:47   Log-Likelihood:                -6.0370\n",
      "No. Observations:                  21   AIC:                             28.07\n",
      "Df Residuals:                      13   BIC:                             36.43\n",
      "Df Model:                           7                                         \n",
      "Covariance Type:            nonrobust                                         \n",
      "==============================================================================\n",
      "                 coef    std err          t      P>|t|      [0.025      0.975]\n",
      "------------------------------------------------------------------------------\n",
      "const          0.7022      0.467      1.504      0.157      -0.307       1.711\n",
      "x1             0.1216      0.396      0.307      0.764      -0.733       0.976\n",
      "x2            -0.0782      0.421     -0.186      0.855      -0.987       0.830\n",
      "x3             0.0219      0.345      0.063      0.950      -0.725       0.768\n",
      "x4            -0.0669      0.364     -0.184      0.857      -0.852       0.718\n",
      "x5            -0.0742      0.350     -0.212      0.836      -0.830       0.682\n",
      "x6             0.0031      0.329      0.009      0.993      -0.708       0.714\n",
      "x7            -0.1733      0.276     -0.627      0.541      -0.770       0.424\n",
      "==============================================================================\n",
      "Omnibus:                        5.698   Durbin-Watson:                   1.966\n",
      "Prob(Omnibus):                  0.058   Jarque-Bera (JB):                1.895\n",
      "Skew:                          -0.294   Prob(JB):                        0.388\n",
      "Kurtosis:                       1.651   Cond. No.                         11.2\n",
      "==============================================================================\n",
      "\n",
      "Notes:\n",
      "[1] Standard Errors assume that the covariance matrix of the errors is correctly specified.\n",
      "[ 0.70219493  0.12157104 -0.07816116  0.02188827 -0.06687466 -0.07416106\n",
      "  0.00306492 -0.17331692]\n"
     ]
    }
   ],
   "source": [
    "\"\"\"Linear Regression\"\"\"\n",
    "import numpy as np\n",
    "import statsmodels.api as sm\n",
    "import random\n",
    "random.seed(12345)\n",
    "\n",
    "num_periods = 21\n",
    "all_values = np.array([np.random.random(8) for i in range (num_periods)])\n",
    "y_values = all_values[:,0]\n",
    "x_values = all_values[:,1:]\n",
    "x_values = sm.add_constant(x_values)   # Include the intercept\n",
    "results = sm.OLS(y_values, x_values).fit()   # Regress and fit the model\n",
    "print(results.summary())\n",
    "print(results.params)"
   ]
  },
  {
   "cell_type": "code",
   "execution_count": 46,
   "metadata": {},
   "outputs": [
    {
     "name": "stdout",
     "output_type": "stream",
     "text": [
      "The solution for Ax=B is x= [ 1.  2. -1.  1.]\n"
     ]
    }
   ],
   "source": [
    "\"\"\"Linear algebra with numpy matrices\"\"\"\n",
    "import numpy as np\n",
    "\n",
    "\n",
    "A = np.array([[10.,-1.,2.,0.], [-1.,11.,-1.,3.],\n",
    "            [2.,-1.,10.,-1.], [0.0,3.,-1.,8.]])\n",
    "B = np.array([6.,25.,-11.,15.])\n",
    "print('The solution for Ax=B is x=',np.linalg.solve(A,B))"
   ]
  },
  {
   "cell_type": "code",
   "execution_count": 48,
   "metadata": {},
   "outputs": [
    {
     "name": "stdout",
     "output_type": "stream",
     "text": [
      "L = [[ 1.          0.          0.          0.        ]\n",
      " [-0.1         1.          0.          0.        ]\n",
      " [ 0.2        -0.0733945   1.          0.        ]\n",
      " [ 0.          0.27522936 -0.08173077  1.        ]]\n",
      "U = [[10.         -1.          2.          0.        ]\n",
      " [ 0.         10.9        -0.8         3.        ]\n",
      " [ 0.          0.          9.5412844  -0.77981651]\n",
      " [ 0.          0.          0.          7.11057692]]\n",
      "The solution for Ax=B by LU decomposition is x= [ 1.  2. -1.  1.]\n"
     ]
    }
   ],
   "source": [
    "\"\"\"LU decomposition with Scipy\"\"\"\n",
    "import scipy.linalg as linalg\n",
    "import numpy as np\n",
    "\n",
    "\n",
    "A = np.array([[10.,-1.,2.,0.], [-1.,11.,-1.,3.],\n",
    "            [2.,-1.,10.,-1.], [0.0,3.,-1.,8.]])\n",
    "B = np.array([6.,25.,-11.,15.])\n",
    "\n",
    "LU = linalg.lu_factor(A)\n",
    "x = linalg.lu_solve(LU,B)\n",
    "print('L =',L)\n",
    "print('U =',U)\n",
    "print('The solution for Ax=B by LU decomposition is x=',x)\n",
    "\n",
    "P,L,U=linalg.lu(A)"
   ]
  },
  {
   "cell_type": "code",
   "execution_count": 57,
   "metadata": {},
   "outputs": [
    {
     "name": "stdout",
     "output_type": "stream",
     "text": [
      "L = [[ 3.16227766  0.          0.          0.        ]\n",
      " [-0.31622777  3.3015148   0.          0.        ]\n",
      " [ 0.63245553 -0.24231301  3.08889696  0.        ]\n",
      " [ 0.          0.9086738  -0.25245792  2.6665665 ]]\n",
      "A = [[10. -1.  2.  0.]\n",
      " [-1. 11. -1.  3.]\n",
      " [ 2. -1. 10. -1.]\n",
      " [ 0.  3. -1.  8.]]\n",
      "Solution to Ax=B by Cholesky decomposition is x= [ 1.  2. -1.  1.]\n"
     ]
    }
   ],
   "source": [
    "\"\"\"Cholesky decomposition with Numpy\"\"\"\n",
    "import numpy as np\n",
    "\n",
    "\n",
    "A = np.array([[10.,-1.,2.,0.], [-1.,11.,-1.,3.],\n",
    "            [2.,-1.,10.,-1.], [0.0,3.,-1.,8.]])\n",
    "B = np.array([6.,25.,-11.,15.])\n",
    "L = np.linalg.cholesky(A)\n",
    "print('L =',L)\n",
    "\n",
    "print('A =', np.dot(L,L.T.conj()))\n",
    "y = np.linalg.solve(L,B)\n",
    "x = np.linalg.solve(L.T.conj(),y)\n",
    "print('Solution to Ax=B by Cholesky decomposition is x=',x)"
   ]
  },
  {
   "cell_type": "code",
   "execution_count": 56,
   "metadata": {},
   "outputs": [
    {
     "name": "stdout",
     "output_type": "stream",
     "text": [
      "Solution to Ax=B by QR decomposition is x= [ 1.  2. -1.  1.]\n"
     ]
    }
   ],
   "source": [
    "\"\"\"QR decomposition with scipy\"\"\"\n",
    "import scipy.linalg as linalg\n",
    "import numpy as np\n",
    "\n",
    "\n",
    "A = np.array([[10.,-1.,2.,0.], [-1.,11.,-1.,3.],\n",
    "            [2.,-1.,10.,-1.], [0.0,3.,-1.,8.]])\n",
    "B = np.array([6.,25.,-11.,15.])\n",
    "Q, R = linalg.qr(A)\n",
    "y = np.dot(Q.T,B)\n",
    "x = linalg.solve(R,y)\n",
    "print('Solution to Ax=B by QR decomposition is x=',x)"
   ]
  },
  {
   "cell_type": "code",
   "execution_count": 55,
   "metadata": {},
   "outputs": [
    {
     "name": "stdout",
     "output_type": "stream",
     "text": [
      "Solution to Ax=B by Jordan method is x= [ 1.  2. -1.  1.]\n"
     ]
    }
   ],
   "source": [
    "\"\"\"Solve Ax=B with the Jacobi method\"\"\"\n",
    "import numpy as np\n",
    "\n",
    "\n",
    "def jacobi(A, B, n, tol=1e-10):\n",
    "    \n",
    "    #Initializes x with zeros with same shape and type as B\n",
    "    x = np.zeros_like(B)\n",
    "    for it_count in range(n):\n",
    "        x_new = np.zeros_like(x)\n",
    "        for i in range(A.shape[0]):\n",
    "            s1 = np.dot(A[i,:i],x[:i])\n",
    "            s2 = np.dot(A[i,i+1:],x[i+1:])\n",
    "            x_new[i] = (B[i]-s1-s2)/A[i,i]\n",
    "        if np.allclose(x,x_new,tol):\n",
    "            break\n",
    "        x = x_new\n",
    "    return x\n",
    "\n",
    "A = np.array([[10.,-1.,2.,0.], [-1.,11.,-1.,3.],\n",
    "            [2.,-1.,10.,-1.], [0.0,3.,-1.,8.]])\n",
    "B = np.array([6.,25.,-11.,15.])\n",
    "n = 25\n",
    "x = jacobi(A,B,n)\n",
    "print(\"Solution to Ax=B by Jordan method is x=\",x)"
   ]
  },
  {
   "cell_type": "code",
   "execution_count": 54,
   "metadata": {},
   "outputs": [
    {
     "name": "stdout",
     "output_type": "stream",
     "text": [
      "Solution to Ax=B by Gauss-Seidel method is x= [ 1.  2. -1.  1.]\n"
     ]
    }
   ],
   "source": [
    "import numpy as np\n",
    "\n",
    "\n",
    "def gauss(A, B, n, tol=1e-10):\n",
    "    \n",
    "    \"\"\" solves Ax=B with the gauss seidel method\"\"\"\n",
    "    \n",
    "    L = np.tril(A)\n",
    "    U = A - L   #decompose A=L+U\n",
    "    L_inv = np.linalg.inv(L)\n",
    "    x = np.zeros_like(B)\n",
    "    \n",
    "    for i in range(n):\n",
    "        Ux = np.dot(U,x)\n",
    "        x_new = np.dot(L_inv,B-Ux)\n",
    "\n",
    "        if np.allclose(x,x_new,tol):\n",
    "            break\n",
    "        \n",
    "        x = x_new\n",
    "        \n",
    "    return x\n",
    "\n",
    "A = np.array([[10.,-1.,2.,0.], [-1.,11.,-1.,3.],\n",
    "            [2.,-1.,10.,-1.], [0.0,3.,-1.,8.]])\n",
    "B = np.array([6.,25.,-11.,15.])\n",
    "n = 100\n",
    "x = gauss(A, B, n)\n",
    "print(\"Solution to Ax=B by Gauss-Seidel method is x=\",x)    "
   ]
  }
 ],
 "metadata": {
  "kernelspec": {
   "display_name": "Python 3",
   "language": "python",
   "name": "python3"
  },
  "language_info": {
   "codemirror_mode": {
    "name": "ipython",
    "version": 3
   },
   "file_extension": ".py",
   "mimetype": "text/x-python",
   "name": "python",
   "nbconvert_exporter": "python",
   "pygments_lexer": "ipython3",
   "version": "3.8.3"
  }
 },
 "nbformat": 4,
 "nbformat_minor": 4
}
hi
