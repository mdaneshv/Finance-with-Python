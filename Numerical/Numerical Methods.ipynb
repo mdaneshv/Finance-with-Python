{
 "cells": [
  {
   "cell_type": "code",
   "execution_count": 10,
   "metadata": {},
   "outputs": [
    {
     "name": "stdout",
     "output_type": "stream",
     "text": [
      "Root is: 1.2414999999999783\n",
      "Iterations: 6242\n"
     ]
    }
   ],
   "source": [
    "import numpy as np\n",
    "\n",
    "\n",
    "def incremental_search(f, a, b, dx):\n",
    "    \"\"\"\n",
    "    f -- the function to solve\n",
    "    a -- the left boundary x-axis value\n",
    "    b -- the right bounday x-axis value\n",
    "    dx -- the incremental value in searching\n",
    "    returns the x-axis value of the root number of iterations used\n",
    "    \"\"\"\n",
    "    fa = f(a)\n",
    "    c = a + dx\n",
    "    fc = f(c)\n",
    "    n = 1\n",
    "\n",
    "    while np.sign(fa) == np.sign(fc):\n",
    "        if a >= b:\n",
    "            return a - dx,n\n",
    "        a = c\n",
    "        fa = fc\n",
    "        c = a + dx\n",
    "        fc = f(c)\n",
    "        n += 1\n",
    "\n",
    "    if fa == 0:\n",
    "        return a,n\n",
    "    elif fc == 0:\n",
    "        return c,n\n",
    "    else:\n",
    "        return (a+c)/2,n\n",
    "    \n",
    "    \n",
    "y = lambda x: x**3 + 2*x**2 - 5\n",
    "root, iterations = incremental_search(y, -5, 5, 0.001)\n",
    "print(\"Root is:\" ,root)\n",
    "print(\"Iterations:\",iterations)    "
   ]
  },
  {
   "cell_type": "code",
   "execution_count": 11,
   "metadata": {},
   "outputs": [
    {
     "name": "stdout",
     "output_type": "stream",
     "text": [
      "Root is: 1.241903305053711\n",
      "Iterations: 20\n"
     ]
    }
   ],
   "source": [
    "\"\"\"The bisection method\"\"\"\n",
    "def bisection(f, a, b, tol=0.1, maxiter=10):\n",
    "    \"\"\"\n",
    "    f -- the function to solve\n",
    "    a -- the x axis value where f(a)<0\n",
    "    b -- the x axis value where f(b)>0\n",
    "    tol -- the precision of the solution\n",
    "    maxiter -- maximum number of iterations\n",
    "    returns the x-axis value of the root,number of iterations used\n",
    "    \"\"\"\n",
    "    c = (a+b)/2\n",
    "    n = 1\n",
    "    while n <= maxiter:\n",
    "        c = (a+b)/2\n",
    "        if f(c) == 0 or abs(a-b)/2 < tol:\n",
    "            return c,n\n",
    "\n",
    "        n += 1\n",
    "        if f(c) < 0:\n",
    "            a = c\n",
    "        else:\n",
    "            b = c\n",
    "            \n",
    "\n",
    "y = lambda x: x**3 + 2*x**2 - 5\n",
    "root, iterations = bisection(y, -5, 5, 0.00001, 100)\n",
    "print(\"Root is:\" ,root)\n",
    "print(\"Iterations:\",iterations)            "
   ]
  },
  {
   "cell_type": "code",
   "execution_count": 12,
   "metadata": {},
   "outputs": [
    {
     "name": "stdout",
     "output_type": "stream",
     "text": [
      "Root is: 1.2418965622558549\n",
      "Iterations: 14\n"
     ]
    }
   ],
   "source": [
    "\"\"\"The secant root finding method\"\"\"\n",
    "def secant(f, a, b, tol=0.001, maxiter=100):\n",
    "    \"\"\"\n",
    "    f -- the function to solve\n",
    "    a -- initial x-axis guess value\n",
    "    b -- initial x-axis guess value, where b>a\n",
    "    tol -- the precision of the solution \n",
    "    maxiter -- maximum number of iteratios\n",
    "    returns the x-axis value of the root, number of iterations used \n",
    "    \"\"\"\n",
    "    n = 1\n",
    "    while n <= maxiter:\n",
    "        c = b - f(b)*(b-a)/(f(b)-f(a))\n",
    "        if abs(c-b) < tol:\n",
    "            return c,n\n",
    "        a = b\n",
    "        b = c\n",
    "        n += 1\n",
    "    return None, n\n",
    "\n",
    "\"\"\"\n",
    "Documentation at\n",
    "http://docs.scipy.org/doc/scipy/reference/optimize.html\n",
    "\"\"\"\n",
    "import scipy.optimize as optimize\n",
    "y = lambda x: x**3 + 2*x**2 - 5\n",
    "dy = lambda x: 3*x**2 + 4*x\n",
    "\n",
    "\n",
    "y = lambda x: x**3 + 2*x**2 - 5\n",
    "root, iterations = secant(y, -5, 5, 0.00001, 100)\n",
    "print(\"Root is:\" ,root)\n",
    "print(\"Iterations:\",iterations)"
   ]
  },
  {
   "cell_type": "code",
   "execution_count": 13,
   "metadata": {},
   "outputs": [
    {
     "name": "stdout",
     "output_type": "stream",
     "text": [
      "Root is: 1.241896563034502\n",
      "Iterations: 7\n"
     ]
    }
   ],
   "source": [
    "\"\"\"The newton method\"\"\"\n",
    "def Newton(f, df, x, tol=0.001, maxiter=100):\n",
    "    \"\"\"\n",
    "    f -- The function to solve\n",
    "    df -- the derivative function of f\n",
    "    x -- Initial guess value of x\n",
    "    tol -- the precision of the solution\n",
    "    maxiter -- Maximum number of iterations\n",
    "    returns the x-axis value of the root,number of iterations used\n",
    "    \"\"\"\n",
    "    n = 1\n",
    "    while n <= maxiter:\n",
    "        x1 = x - f(x)/df(x)\n",
    "        if abs(x1-x) < tol:\n",
    "            return x1,n\n",
    "        else:\n",
    "            x = x1\n",
    "            n += 1\n",
    "    return None,n\n",
    "\n",
    "\n",
    "y = lambda x: x**3 + 2*x**2 - 5\n",
    "dy = lambda x: 3*x**2 + 4*x\n",
    "root, iterations = Newton(y, dy, 5, 0.00001, 100)\n",
    "print(\"Root is:\" ,root)\n",
    "print(\"Iterations:\",iterations)"
   ]
  },
  {
   "cell_type": "code",
   "execution_count": 16,
   "metadata": {},
   "outputs": [
    {
     "name": "stdout",
     "output_type": "stream",
     "text": [
      "x= [1.24189656]\n",
      "    fjac: array([[-1.]])\n",
      "     fun: array([3.55271368e-15])\n",
      " message: 'The solution converged.'\n",
      "    nfev: 12\n",
      "     qtf: array([-3.73605502e-09])\n",
      "       r: array([-9.59451815])\n",
      "  status: 1\n",
      " success: True\n",
      "       x: array([1.24189656])\n"
     ]
    }
   ],
   "source": [
    "\"\"\"\n",
    "General nonlinear solvers\n",
    "- with a solution\n",
    "\"\"\"\n",
    "import scipy.optimize as optimize\n",
    "\n",
    "y = lambda x: x**3 + 2*x**2 - 5\n",
    "dy = lambda x: 3*x**2 + 4*x\n",
    "\n",
    "print('x=',optimize.fsolve(y, 5, fprime=dy))\n",
    "print(optimize.root(y, 5))"
   ]
  }
 ],
 "metadata": {
  "kernelspec": {
   "display_name": "Python 3",
   "language": "python",
   "name": "python3"
  },
  "language_info": {
   "codemirror_mode": {
    "name": "ipython",
    "version": 3
   },
   "file_extension": ".py",
   "mimetype": "text/x-python",
   "name": "python",
   "nbconvert_exporter": "python",
   "pygments_lexer": "ipython3",
   "version": "3.8.3"
  }
 },
 "nbformat": 4,
 "nbformat_minor": 4
}
